{
  "nbformat": 4,
  "nbformat_minor": 0,
  "metadata": {
    "colab": {
      "provenance": []
    },
    "kernelspec": {
      "name": "python3",
      "display_name": "Python 3"
    },
    "language_info": {
      "name": "python"
    }
  },
  "cells": [
    {
      "cell_type": "markdown",
      "source": [
        "# 1.\n",
        "Предлагается вычислить функцию следующим алгоритмом:\n",
        "1. Вычислить разность x-a стандартным способом.\n",
        "2. Вычислить $\\sqrt{x-a}$ и $\\sqrt{a}$ методом Ньютона\n",
        "3. Вычислить разность $\\sqrt{x-a}-\\sqrt{a}$ стандартным способом\n",
        "В качестве $x_0$ для метода Ньютона при вычислении $\\sqrt{t}$ взять $t$ и тогда последовательность $x_n$ заведомо сходится к решению. Метод Ньютона для вычисления квадратного корня числа $a$ приобретает следующий вид:\n",
        "$$x_n = x_{n-1} + \\frac{f(x_{n-1})}{f'(x_{n-1})} = x_{n-1} + \\frac{x_{n-1} + \\frac{x_{n-1}}{a}}{2}.$$\n",
        "Если представить $x_{n-1}$ как $\\sqrt{a} + y$, то будет видно, что $x_n-x_{n-1} = \\frac{y^2}{2(\\sqrt{a}+y)} \\geq \\frac{y}{2}$. Учитывая, что за 10 итераций разница между решением и приближением уменьшается минимум в $2^{10}$ раз, то есть минимум на $3$ порядка, то учитывая ограничения на максимальное и минимальное машинное число, можно гарантировать маленькую относительную погрешность, например, за $300$ итераций.\n",
        "На каждой итерации проводится 2 операции деления и 2 операции сложения, откуда по аксиоме машинной арифметики получится, что $x_{n-1} + \\frac{x_{n-1} + \\frac{x_{n-1}}{a}}{2}(вычисленное) \\leq (x_{n-1} + \\frac{x_{n-1} + \\frac{x_{n-1}}{a}}{2})(1+\\epsilon)^4$. Отсюда $\\frac{x_{300}(вычисленное)}{x_{300}} \\leq (1+\\epsilon)^{1200}$. И, учитывая, что в вычислении финальной функции кроме подсчета квадратных корней имеется 2 операции разности, то $\\frac{f(x, a)(вычисленное)}{f(x,a)} \\leq (1+\\epsilon)^{1202}$"
      ],
      "metadata": {
        "id": "aMavnyb6uls8"
      }
    },
    {
      "cell_type": "code",
      "execution_count": null,
      "metadata": {
        "id": "6dMJlnnVWwBe"
      },
      "outputs": [],
      "source": [
        "def SR_newton(a):\n",
        "  x = a\n",
        "  if x == 0:\n",
        "    return 0\n",
        "  for i in range(300):\n",
        "    x = (x+a/x)/2\n",
        "  return x\n",
        "def func(x, a):\n",
        "  return SR_newton(x-a) - SR_newton(a)"
      ]
    },
    {
      "cell_type": "markdown",
      "source": [
        "# 2."
      ],
      "metadata": {
        "id": "c6ebZrX926s8"
      }
    },
    {
      "cell_type": "code",
      "source": [
        "from mpmath import *\n",
        "mp.dps = 64\n",
        "mp.pretty = True\n",
        "+pi\n",
        "print(tan(10**100))"
      ],
      "metadata": {
        "colab": {
          "base_uri": "https://localhost:8080/"
        },
        "id": "AHwbHosqkGUx",
        "outputId": "66d5a13b-eb39-4013-a459-569a981dea1a"
      },
      "execution_count": null,
      "outputs": [
        {
          "output_type": "stream",
          "name": "stdout",
          "text": [
            "0.4012319619908143541857543436532949583238702611292440683194415381\n"
          ]
        }
      ]
    },
    {
      "cell_type": "markdown",
      "source": [
        "относительное число обусловленности при вычислении $\\tan(10^{100})$ равно:\n",
        "$$k = \\lim_{\\delta \\rightarrow 0} \\frac{|\\tan(10^{100}+\\delta) - \\tan(10^{100})|}{|\\tan(10^{100})|} \\div \\frac{\\delta}{10^{100}} = |tg'(10^{100})| \\times \\frac{10^{100}}{|\\tan(10^{100})|} = $$\n",
        "$$=\\frac{1}{cos^2(10^{100})} \\times \\frac{10^{100}}{|\\tan(10^{100})|} \\geq \\frac{10^{100}}{|\\tan(10^{100})|}$$"
      ],
      "metadata": {
        "id": "KXxZ4tnrmTpc"
      }
    },
    {
      "cell_type": "markdown",
      "source": [
        "# 3."
      ],
      "metadata": {
        "id": "DEYVME3Z9Kob"
      }
    },
    {
      "cell_type": "code",
      "source": [
        "def standart_quad(b, c):\n",
        "  return (b**2/4-c)**(1/2)-b/2, -(b**2/4-c)**(1/2)-b/2\n",
        "\n",
        "def newton(b, c):\n",
        "  x1 = 1e5\n",
        "  for i in range(300):\n",
        "    x1 = x1 - (x1**2+b*x1+c)/(2*x1+b)\n",
        "  x2 = -1e5\n",
        "  for i in range(300):\n",
        "    x2 = x2 - (x2**2+b*x2+c)/(2*x2+b)\n",
        "  return x1, x2\n",
        "\n",
        "def solve_quad(b, c):\n",
        "  if b**2/4-c < 0:\n",
        "    return standart_quad(b, c)\n",
        "  else:\n",
        "    return newton(b, c)\n",
        "\n",
        "\n",
        "print(solve_quad(4.0, 3.0))\n",
        "print(solve_quad(2.0, 1.0))\n",
        "print(solve_quad(0.5, 4.0))\n",
        "print(solve_quad(1e10, 3.0))\n",
        "print(solve_quad(-1e10, 4.0))"
      ],
      "metadata": {
        "colab": {
          "base_uri": "https://localhost:8080/"
        },
        "id": "kmpsrD7BkTnu",
        "outputId": "8ce3bb4c-92d6-4e88-f603-08ea9573dd91"
      },
      "execution_count": null,
      "outputs": [
        {
          "output_type": "stream",
          "name": "stdout",
          "text": [
            "(-1.0, -2.9999999999999996)\n",
            "(-0.9999999937289372, -1.000000010124357)\n",
            "((-0.2499999999999999+1.984313483298443j), (-0.2500000000000001-1.984313483298443j))\n",
            "(-3e-10, -3e-10)\n",
            "(4e-10, 4e-10)\n"
          ]
        }
      ]
    },
    {
      "cell_type": "code",
      "source": [],
      "metadata": {
        "id": "6Rvh8ura9OTj"
      },
      "execution_count": null,
      "outputs": []
    }
  ]
}