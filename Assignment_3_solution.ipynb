{
  "nbformat": 4,
  "nbformat_minor": 0,
  "metadata": {
    "colab": {
      "provenance": []
    },
    "kernelspec": {
      "name": "python3",
      "display_name": "Python 3"
    },
    "language_info": {
      "name": "python"
    }
  },
  "cells": [
    {
      "cell_type": "code",
      "source": [
        "import numpy as np\n",
        "import matplotlib.pyplot as plt\n",
        "from matplotlib.pyplot import figure\n",
        "import time"
      ],
      "metadata": {
        "id": "xpOXeKRgs518"
      },
      "execution_count": null,
      "outputs": []
    },
    {
      "cell_type": "markdown",
      "source": [
        "# 2\n",
        "$f = ma$, $m = 1$, значит $f = a$. Т. к. в моменты $[0, 1], [1, 2],...,[9, 10]$ к частице прилагаются силы $f_i$, то скорость $v_1$ в момент $t_1$ равна $0 + \\int_{0}^{1} f_1 dx = f_1$, $v_2$ в момент времени $t_2$ равна $f_1 + \\int_0^1 f_2 dx = f_1+f_2$ и т. д., $v_{10}$ в момент $t_{10}$ равна $f_1+...+f_9 + \\int_0^1 f_{10} dx = f_1+...+f_{10}$.\n",
        "\n",
        "Соответственно, $x_1 = 0 + \\int_0^1 f_1x dx = \\frac{f_1}{2}$, $x_2 = \\frac{f_1}{2} + \\int_0^1 (f_1+f_2x) dx = \\frac{3f_1}{2} + \\frac{f_2}{2}$, $x_3 = \\frac{3f_1}{2} + \\frac{f_2}{2} + \\int_0^1 (f_1+f_2+f_3x)dx = \\frac{5f_1}{2} + \\frac{3f_2}{2} + \\frac{f_3}{2}$,..., $x_{10} = \\frac{19f_1}{2} + \\frac{17f_2}{2} + ... +\\frac{f_{10}}{2}$\n",
        "Таким образом, матрица $A$ состоит из 2-х вектор-строк $a_1 = (1, 1,...,1)$ и $a_2 = (\\frac{19}{2}, \\frac{17}{2}, \\frac{15}{2},...,\\frac{1}{2})$.\n",
        "\n",
        "Вычислим SVD разложение матрицы $A$."
      ],
      "metadata": {
        "id": "1vs5N-X5f0Dk"
      }
    },
    {
      "cell_type": "code",
      "source": [
        "a = np.array([1, 0])\n",
        "A = np.array([[(2*j+1)/2 for j in reversed(range(10))], [1 for i in range(10)]])\n",
        "U, S, Vh = np.linalg.svd(A)\n",
        "w = np.zeros(10)\n",
        "w[0] = (U.T @ a)[0] / S[0]\n",
        "w[1] = (U.T @ a)[1] / S[1]\n",
        "# w - вектор минимальной нормы, соответствующий решению уравнения S @ y = U*b, где y = Vh @ f\n",
        "# Норма Vh @ f равна норме f, т. к.  Vh - ортогональное преобразование, значит f_opt находится из решения Vh @ f = w\n",
        "f_opt = Vh.T @ w\n",
        "#Вектор минимальной нормы и его норма:\n",
        "print(f_opt)\n",
        "print((sum(f_opt**2))**(1/2))"
      ],
      "metadata": {
        "colab": {
          "base_uri": "https://localhost:8080/"
        },
        "id": "EYGYrUVCqxnE",
        "outputId": "97538a92-7ebe-499e-9fef-42a6a33ad9c1"
      },
      "execution_count": null,
      "outputs": [
        {
          "output_type": "stream",
          "name": "stdout",
          "text": [
            "[ 0.05454545  0.04242424  0.03030303  0.01818182  0.00606061 -0.00606061\n",
            " -0.01818182 -0.03030303 -0.04242424 -0.05454545]\n",
            "0.11009637651263604\n"
          ]
        }
      ]
    },
    {
      "cell_type": "code",
      "source": [
        "n = np.random.uniform(0,6,7)\n",
        "e = np.random.normal(loc=0.0, scale=1.0, size=7)\n",
        "f = 10*np.sin(n) + e\n",
        "print(n)"
      ],
      "metadata": {
        "colab": {
          "base_uri": "https://localhost:8080/"
        },
        "id": "mhF5_ulAJpQN",
        "outputId": "e9af3427-ec3b-41ff-b79c-64cd18004758"
      },
      "execution_count": null,
      "outputs": [
        {
          "output_type": "stream",
          "name": "stdout",
          "text": [
            "[0.38210797 3.64547095 4.50400712 5.24198073 0.99129183 0.75854145\n",
            " 5.17739082]\n"
          ]
        }
      ]
    },
    {
      "cell_type": "code",
      "source": [
        "fig, ax = plt.subplots(figsize=(10, 5))\n",
        "ax.scatter(x = n, y = f)"
      ],
      "metadata": {
        "colab": {
          "base_uri": "https://localhost:8080/",
          "height": 337
        },
        "id": "VX3QFL47LX9k",
        "outputId": "5e78e893-1408-40ac-cb64-4b1d5e1b07c1"
      },
      "execution_count": null,
      "outputs": [
        {
          "output_type": "execute_result",
          "data": {
            "text/plain": [
              "<matplotlib.collections.PathCollection at 0x7f49109c7d50>"
            ]
          },
          "metadata": {},
          "execution_count": 3
        },
        {
          "output_type": "display_data",
          "data": {
            "text/plain": [
              "<Figure size 720x360 with 1 Axes>"
            ],
            "image/png": "[encoded data removed]"
          },
          "metadata": {
            "needs_background": "light"
          }
        }
      ]
    },
    {
      "cell_type": "code",
      "source": [
        "#Линейная модель\n",
        "A = np.zeros((7,2))\n",
        "for i in range(7):\n",
        "  A[i][0] += 1\n",
        "  A[i][1] += n[i]\n",
        "lin_ls = np.linalg.inv(A.T @ A) @ A.T @ f\n",
        "print(lin_ls)\n",
        "y_lin = [lin_ls[1]*n[i] + lin_ls[0] for i in range(7)]"
      ],
      "metadata": {
        "colab": {
          "base_uri": "https://localhost:8080/"
        },
        "id": "srtIaTkjyoUu",
        "outputId": "efd3beb8-78f8-4df4-f6ad-78bbac1d94f9"
      },
      "execution_count": null,
      "outputs": [
        {
          "output_type": "stream",
          "name": "stdout",
          "text": [
            "[ 8.93963972 -3.69440358]\n"
          ]
        }
      ]
    },
    {
      "cell_type": "code",
      "source": [
        "fig, ax = plt.subplots(figsize=(10, 5))\n",
        "ax.scatter(x = n, y = f)\n",
        "ax.scatter(x = n, y = y_lin)"
      ],
      "metadata": {
        "colab": {
          "base_uri": "https://localhost:8080/",
          "height": 337
        },
        "id": "DNMWVJTZ0zjD",
        "outputId": "e4e1e480-52e0-40d6-8fe2-7690917dc881"
      },
      "execution_count": null,
      "outputs": [
        {
          "output_type": "execute_result",
          "data": {
            "text/plain": [
              "<matplotlib.collections.PathCollection at 0x7f49045add50>"
            ]
          },
          "metadata": {},
          "execution_count": 10
        },
        {
          "output_type": "display_data",
          "data": {
            "text/plain": [
              "<Figure size 720x360 with 1 Axes>"
            ],
            "image/png": "[encoded data removed]"
          },
          "metadata": {
            "needs_background": "light"
          }
        }
      ]
    },
    {
      "cell_type": "code",
      "source": [
        "#Полиномиальная модель\n",
        "A = np.zeros((7,4))\n",
        "for i in range(7):\n",
        "  for j in range(4):\n",
        "    A[i][j] += n[i]**j\n",
        "pol_ls = np.linalg.inv(A.T @ A) @ A.T @ f\n",
        "y_pol = [[sum(pol_ls[j]*n[i]**j for j in range(4))] for i in range(7)]"
      ],
      "metadata": {
        "id": "AER_OWt908u3"
      },
      "execution_count": null,
      "outputs": []
    },
    {
      "cell_type": "code",
      "source": [
        "fig, ax = plt.subplots(figsize=(10, 5))\n",
        "ax.scatter(x = n, y = f)\n",
        "ax.scatter(x = n, y = y_pol)"
      ],
      "metadata": {
        "colab": {
          "base_uri": "https://localhost:8080/",
          "height": 337
        },
        "id": "eDsMRaTw2A45",
        "outputId": "fbf7c055-825f-4f89-9279-165b24406b9c"
      },
      "execution_count": null,
      "outputs": [
        {
          "output_type": "execute_result",
          "data": {
            "text/plain": [
              "<matplotlib.collections.PathCollection at 0x7f490435fe90>"
            ]
          },
          "metadata": {},
          "execution_count": 16
        },
        {
          "output_type": "display_data",
          "data": {
            "text/plain": [
              "<Figure size 720x360 with 1 Axes>"
            ],
            "image/png": "[encoded data removed]"
          },
          "metadata": {
            "needs_background": "light"
          }
        }
      ]
    },
    {
      "cell_type": "code",
      "source": [
        "#Все на одном графике\n",
        "fig, ax = plt.subplots(figsize=(10, 5))\n",
        "ax.scatter(x = n, y = f)\n",
        "ax.scatter(x = n, y = y_lin)\n",
        "ax.scatter(x = n, y = y_pol)"
      ],
      "metadata": {
        "colab": {
          "base_uri": "https://localhost:8080/",
          "height": 337
        },
        "id": "F64n47m02jA0",
        "outputId": "1c77819f-777a-49e5-d261-089426f79ee9"
      },
      "execution_count": null,
      "outputs": [
        {
          "output_type": "execute_result",
          "data": {
            "text/plain": [
              "<matplotlib.collections.PathCollection at 0x7f49042d1790>"
            ]
          },
          "metadata": {},
          "execution_count": 17
        },
        {
          "output_type": "display_data",
          "data": {
            "text/plain": [
              "<Figure size 720x360 with 1 Axes>"
            ],
            "image/png": "[encoded data removed]"
          },
          "metadata": {
            "needs_background": "light"
          }
        }
      ]
    },
    {
      "cell_type": "code",
      "source": [
        "with np.load('data.npz') as data:\n",
        "  A, C = data['A'], data['C']"
      ],
      "metadata": {
        "id": "xd1aAba42s7z"
      },
      "execution_count": null,
      "outputs": []
    },
    {
      "cell_type": "code",
      "source": [
        "figure(figsize=(8, 6), dpi=80)\n",
        "plt.imshow(A, interpolation='none')"
      ],
      "metadata": {
        "colab": {
          "base_uri": "https://localhost:8080/",
          "height": 274
        },
        "id": "vE8OyZdvAj9C",
        "outputId": "8cde22f3-c014-4520-dede-c00cfec02cc5"
      },
      "execution_count": null,
      "outputs": [
        {
          "output_type": "execute_result",
          "data": {
            "text/plain": [
              "<matplotlib.image.AxesImage at 0x7f33197ac390>"
            ]
          },
          "metadata": {},
          "execution_count": 4
        },
        {
          "output_type": "display_data",
          "data": {
            "text/plain": [
              "<Figure size 640x480 with 1 Axes>"
            ],
            "image/png": "[encoded data removed]"
          },
          "metadata": {
            "needs_background": "light"
          }
        }
      ]
    },
    {
      "cell_type": "code",
      "source": [
        "s = []\n",
        "for i in range(1500):\n",
        "  s1 = 0\n",
        "  for j in range(816):\n",
        "    s1 += C[i][j]\n",
        "  s.append(s1)\n",
        "print(s)"
      ],
      "metadata": {
        "colab": {
          "base_uri": "https://localhost:8080/"
        },
        "id": "NNunO1-EW-Rn",
        "outputId": "f4f1768f-bd1a-4dc4-b321-5148666b6bfa"
      },
      "execution_count": null,
      "outputs": [
        {
          "output_type": "stream",
          "name": "stdout",
          "text": [
            "1500\n"
          ]
        }
      ]
    },
    {
      "cell_type": "code",
      "source": [
        "def mat2vec(A):\n",
        "  A = np.flipud(A)\n",
        "  a = np.reshape(A, np.prod(A.shape))\n",
        "  return a\n",
        "\n",
        "\n",
        "def vec2mat(a, shape):\n",
        "  A = np.reshape(a, shape)\n",
        "  A = np.flipud(A)\n",
        "  return A"
      ],
      "metadata": {
        "id": "oi_6Up-hY6_v"
      },
      "execution_count": null,
      "outputs": []
    },
    {
      "cell_type": "code",
      "source": [
        "#Приблизим вектор a0, решив систему Ca0 = a с помощью SVD разложения\n",
        "a = mat2vec(A)\n",
        "U1, S1, Vh1 = np.linalg.svd(C)\n",
        "S1 = np.diag(S1)\n",
        "a0 = Vh1.T @ np.linalg.inv(S1) @ (U1.T @ a)[0:816]"
      ],
      "metadata": {
        "id": "FMZZyH8OccMl"
      },
      "execution_count": null,
      "outputs": []
    },
    {
      "cell_type": "code",
      "source": [
        "A0 = vec2mat(a0, (16, 51))\n",
        "figure(figsize=(8, 6), dpi=80)\n",
        "plt.imshow(A0, interpolation='none')"
      ],
      "metadata": {
        "colab": {
          "base_uri": "https://localhost:8080/",
          "height": 223
        },
        "id": "qrfrmX7zjL65",
        "outputId": "22e16d2d-1963-4d29-b0ac-a362e8e75e68"
      },
      "execution_count": null,
      "outputs": [
        {
          "output_type": "execute_result",
          "data": {
            "text/plain": [
              "<matplotlib.image.AxesImage at 0x7f330b244810>"
            ]
          },
          "metadata": {},
          "execution_count": 298
        },
        {
          "output_type": "display_data",
          "data": {
            "text/plain": [
              "<Figure size 640x480 with 1 Axes>"
            ],
            "image/png": "[encoded data removed]"
          },
          "metadata": {
            "needs_background": "light"
          }
        }
      ]
    },
    {
      "cell_type": "code",
      "source": [
        "#Приблизим вектор a0 с помощью метода наименьших квадратов, используя только часть сингулярных чисел в SVD разложении\n",
        "U1, S1, Vh1 = np.linalg.svd(C)\n",
        "w1 = np.zeros(816)\n",
        "k = 404\n",
        "for i in range(k):\n",
        "  w1[i] = (U1.T @ a)[i] / S1[i]\n",
        "a0_1 = Vh1.T @ w1"
      ],
      "metadata": {
        "id": "UZJ19_GblFoq"
      },
      "execution_count": null,
      "outputs": []
    },
    {
      "cell_type": "code",
      "source": [
        "A0_1 = vec2mat(a0_1, (16, 51))\n",
        "figure(figsize=(8, 6), dpi=80)\n",
        "plt.imshow(A0_1, interpolation='none')"
      ],
      "metadata": {
        "colab": {
          "base_uri": "https://localhost:8080/",
          "height": 223
        },
        "id": "WijNWp9grQeq",
        "outputId": "98f928c5-bd2d-4e1d-fdca-d8236a7fa2a1"
      },
      "execution_count": null,
      "outputs": [
        {
          "output_type": "execute_result",
          "data": {
            "text/plain": [
              "<matplotlib.image.AxesImage at 0x7f330b075350>"
            ]
          },
          "metadata": {},
          "execution_count": 306
        },
        {
          "output_type": "display_data",
          "data": {
            "text/plain": [
              "<Figure size 640x480 with 1 Axes>"
            ],
            "image/png": "[encoded data removed]"
          },
          "metadata": {
            "needs_background": "light"
          }
        }
      ]
    },
    {
      "cell_type": "markdown",
      "source": [
        "# 5\n",
        "Исходная задача минимизации эквивалентна задачи минимизации функции $\\frac{1}{2}||Ax-b||^2$ при условии $Cx = 0$. Положим, матрица $A$ имеет размер $m\\times n$, а матрица $C$ - $k\\times n$\n",
        "Выпишем лагранжиан данной задачи:\n",
        "$$L(x, \\lambda) = \\frac{1}{2}||Ax-b||^2 +\\lambda_1(c_{11}x_1+...+c_{1n}x_n) +...+ \\lambda_m(c_{m1}x_1+...+c_{mn}x_n)$$\n",
        "$$\\nabla L(x, \\lambda) = 0 \\Leftrightarrow$$\n",
        "\\begin{equation*}\n",
        " \\begin{cases}\n",
        "  A^T(Ax-b) = C^T\\lambda,\n",
        "   \\\\\n",
        "   Cx = 0\n",
        " \\end{cases}\n",
        "\\end{equation*}\n",
        "\n",
        "$$\\Rightarrow$$\n",
        "\\begin{equation*}\n",
        " \\begin{cases}\n",
        "  A^TAx = A^Tb + C^T\\lambda,\n",
        "   \\\\\n",
        "   Cx = 0\n",
        " \\end{cases}\n",
        "\\end{equation*}\n",
        "\n",
        "$$\\Rightarrow$$\n",
        "\\begin{equation*}\n",
        " \\begin{cases}\n",
        "  x = (A^TA)^{-1}A^Tb + (A^TA)^{-1}C^T\\lambda,\n",
        "   \\\\\n",
        "   Cx = 0\n",
        " \\end{cases}\n",
        "\\end{equation*}\n",
        "\n",
        "$$\\Rightarrow$$\n",
        "\\begin{equation*}\n",
        " \\begin{cases}\n",
        "  x = (A^TA)^{-1}A^Tb + (A^TA)^{-1}C^T\\lambda,\n",
        "   \\\\\n",
        "   C(A^TA)^{-1}A^Tb = C(A^TA)^{-1}C^T\\lambda\n",
        " \\end{cases}\n",
        "\\end{equation*}\n",
        "\n",
        "$$\\Rightarrow \\lambda = (C(A^TA)^{-1}C^T)^{-1}C(A^TA)^{-1}A^Tb$$\n",
        "Соответственно $x = (A^TA)^{-1}(A^Tb + C^T(C(A^TA)^{-1}C^T)^{-1}C(A^TA)^{-1}A^Tb)$"
      ],
      "metadata": {
        "id": "DwPJAZnuVIrK"
      }
    },
    {
      "cell_type": "markdown",
      "source": [
        "#6\n",
        "Если считать, что разность между истинными координатами и данными достаточно мала, то можно не учитывать квадратичные слагаемые с переменными:\n",
        "$$<a, b>^2 = <a,a><b,b>cos^2(\\theta_{ab}) \\Leftrightarrow (<a'+\\Delta_1, b'+\\Delta_2>)^2 = <a'+\\Delta_1,a'+\\Delta_1><b'+\\Delta_2, b'+\\Delta_2>cos^2(\\theta_{ab}) \\Leftrightarrow \\approx (<a', b'> +<a',\\Delta_2>+<b',\\Delta_1>)^2 = (<a', a'> +2<a',\\Delta_1>)(<b',b'>+2<b',\\Delta_2>)cos^2(\\theta_{ab}) = cos^2(\\theta_{ab})<a', a'><b',b'>+2cos^2(\\theta_{ab})<a',\\Delta_1><b',b'>+2cos^2(\\theta_{ab})<a', a'><b',\\Delta_2> +4cos^2(\\theta_{ab})<a',\\Delta_1><b',\\Delta_2> \\approx cos^2(\\theta_{ab})<a', a'><b',b'> + 2cos^2(\\theta_{ab})<b',b'>a'_x\\Delta^x_1 + 2cos^2(\\theta_{ab})<b',b'>a'_y\\Delta^y_1 + 2cos^2(\\theta_{ab})<a',a'>b'_x\\Delta^x_2 + 2cos^2(\\theta_{ab})<a',a'>b'_y\\Delta^y_2$$\n",
        "\n",
        "Отсюда получаем:\n",
        "$$(<a', b'> +a'_x\\Delta^x_2+a'_y\\Delta^y_2+b'_x\\Delta^x_1+b'_y\\Delta^y_1)^2 = cos^2(\\theta_{ab})<a', a'><b',b'> + 2cos^2(\\theta_{ab})<b',b'>a'_x\\Delta^x_1 + 2cos^2(\\theta_{ab})<b',b'>a'_y\\Delta^y_1 + 2cos^2(\\theta_{ab})<a',a'>b'_x\\Delta^x_2 + 2cos^2(\\theta_{ab})<a',a'>b'_y\\Delta^y_2 \\Leftrightarrow \\approx <a', b'><a', b'>+2<a', b'>a'_x\\Delta^x_2+2<a', b'>a'_y\\Delta^y_2+2<a', b'>b'_x\\Delta^x_1+2<a', b'>b'_y\\Delta^y_1 = cos(\\theta_{ab})<a', a'><b',b'> + 2cos^2(\\theta_{ab})<b',b'>a'_x\\Delta^x_1 + 2cos^2(\\theta_{ab})<b',b'>a'_y\\Delta^y_1 + 2cos^2(\\theta_{ab})<a',a'>b'_x\\Delta^x_2 + 2cos^2(\\theta_{ab})<a',a'>b'_y\\Delta^y_2$$"
      ],
      "metadata": {
        "id": "fraeW6M2gq5j"
      }
    }
  ]
}